{
 "cells": [
  {
   "cell_type": "code",
   "execution_count": null,
   "id": "3fec1c20",
   "metadata": {},
   "outputs": [
    {
     "data": {
      "text/plain": [
       "True"
      ]
     },
     "execution_count": 27,
     "metadata": {},
     "output_type": "execute_result"
    }
   ],
   "source": [
    "from dotenv import load_dotenv\n",
    "\n",
    "load_dotenv()\n"
   ]
  },
  {
   "cell_type": "code",
   "execution_count": 42,
   "id": "2344cab6-f2ca-4e2e-a904-b58813507844",
   "metadata": {},
   "outputs": [],
   "source": [
    "import os\n",
    "from langchain_openai import ChatOpenAI\n",
    "from langchain_community.tools.tavily_search import TavilySearchResults\n",
    "from langgraph.prebuilt import create_react_agent\n",
    "from langchain_core.messages import HumanMessage\n",
    "\n",
    "OPEN_AI_API_KEY = os.getenv(\"OPEN_AI_API_KEY\")\n",
    "TAVILY_KEY = os.getenv(\"TAVILY_API_KEY\")\n"
   ]
  },
  {
   "cell_type": "code",
   "execution_count": 30,
   "id": "051dde86",
   "metadata": {},
   "outputs": [
    {
     "name": "stdout",
     "output_type": "stream",
     "text": [
      "Usage metadata: {'input_tokens': 19, 'output_tokens': 40, 'total_tokens': 59}\n",
      "Response: I'm unable to provide real-time weather updates. To find the current weather in Debrecen, Hungary, I recommend checking a reliable weather website or app for the most accurate and up-to-date information.\n",
      "\n",
      "DEBUG: content=\"I'm unable to provide real-time weather updates. To find the current weather in Debrecen, Hungary, I recommend checking a reliable weather website or app for the most accurate and up-to-date information.\" additional_kwargs={'refusal': None} response_metadata={'token_usage': {'completion_tokens': 40, 'prompt_tokens': 19, 'total_tokens': 59, 'completion_tokens_details': {'reasoning_tokens': 0, 'audio_tokens': 0, 'accepted_prediction_tokens': 0, 'rejected_prediction_tokens': 0}, 'prompt_tokens_details': {'cached_tokens': 0, 'audio_tokens': 0}}, 'model_name': 'gpt-4o-mini-2024-07-18', 'system_fingerprint': 'fp_0705bf87c0', 'finish_reason': 'stop', 'logprobs': None} id='run-c33abcba-80a4-4a74-a9bc-6b2bedd36ff4-0' usage_metadata={'input_tokens': 19, 'output_tokens': 40, 'total_tokens': 59}\n"
     ]
    }
   ],
   "source": [
    "model = ChatOpenAI(model=\"gpt-4o-mini\", api_key=OPEN_AI_API_KEY)\n",
    "\n",
    "prompt = \"What is the weather now in Hungary, Debrecen?\"\n",
    "\n",
    "response = model.invoke([HumanMessage(content=prompt)])\n",
    "print(f\"Usage metadata: {response.usage_metadata}\")\n",
    "print(f\"Response: {response.content}\")\n",
    "\n",
    "print(f\"\\nDEBUG: {response}\")\n"
   ]
  },
  {
   "cell_type": "markdown",
   "id": "a996dcc0",
   "metadata": {},
   "source": [
    "# Using the Tavily tool standalone\n"
   ]
  },
  {
   "cell_type": "code",
   "execution_count": 43,
   "id": "fdb57118",
   "metadata": {},
   "outputs": [
    {
     "name": "stdout",
     "output_type": "stream",
     "text": [
      "\u001b[32;1m\u001b[1;3m[{'url': 'https://www.weatherapi.com/', 'content': \"{'location': {'name': 'Debrecen', 'region': 'Debrecen', 'country': 'Hungary', 'lat': 47.5333, 'lon': 21.6333, 'tz_id': 'Europe/Budapest', 'localtime_epoch': 1733144903, 'localtime': '2024-12-02 14:08'}, 'current': {'last_updated_epoch': 1733144400, 'last_updated': '2024-12-02 14:00', 'temp_c': 3.3, 'temp_f': 37.9, 'is_day': 1, 'condition': {'text': 'Partly cloudy', 'icon': '//cdn.weatherapi.com/weather/64x64/day/116.png', 'code': 1003}, 'wind_mph': 3.6, 'wind_kph': 5.8, 'wind_degree': 199, 'wind_dir': 'SSW', 'pressure_mb': 1025.0, 'pressure_in': 30.27, 'precip_mm': 0.0, 'precip_in': 0.0, 'humidity': 100, 'cloud': 75, 'feelslike_c': 1.9, 'feelslike_f': 35.3, 'windchill_c': 5.8, 'windchill_f': 42.5, 'heatindex_c': 6.8, 'heatindex_f': 44.2, 'dewpoint_c': 2.2, 'dewpoint_f': 35.9, 'vis_km': 6.0, 'vis_miles': 3.0, 'uv': 0.4, 'gust_mph': 4.9, 'gust_kph': 7.9}}\"}, {'url': 'https://hungaryweather.org/debrecen', 'content': \"6°C Temperature: 5.54°C 7 Days 10 Days 14 Days 30 Days 0°C -1°C 0°C 1°C 1°C Hottest day (13 December 2024) 11.34°C Coldest day (25 December 2024) -5.73°C Temperature and possibility of rain in Debrecen in the coming days Rainfall in Debrecen in the coming days Month   High / Low (°C) Rain January 1.83° / -2.66°  11.0 days February    4.95° / -0.82°  10.0 days March   11.07° / 3.23°  9.36 days April   17.48° / 7.24°  12.0 days May 21.49° / 10.81° 17.09 days June    25.98° / 15.08° 16.0 days August  29.61° / 17.01° 7.45 days October 16.75° / 8.85°  7.82 days November    10.65° / 4.63°  8.36 days December    3.67° / -0.61°  8.36 days Debrecen's weather Day 0°C 0°C 0°C 2°C\"}]\u001b[0m"
     ]
    },
    {
     "data": {
      "text/plain": [
       "[{'url': 'https://www.weatherapi.com/',\n",
       "  'content': \"{'location': {'name': 'Debrecen', 'region': 'Debrecen', 'country': 'Hungary', 'lat': 47.5333, 'lon': 21.6333, 'tz_id': 'Europe/Budapest', 'localtime_epoch': 1733144903, 'localtime': '2024-12-02 14:08'}, 'current': {'last_updated_epoch': 1733144400, 'last_updated': '2024-12-02 14:00', 'temp_c': 3.3, 'temp_f': 37.9, 'is_day': 1, 'condition': {'text': 'Partly cloudy', 'icon': '//cdn.weatherapi.com/weather/64x64/day/116.png', 'code': 1003}, 'wind_mph': 3.6, 'wind_kph': 5.8, 'wind_degree': 199, 'wind_dir': 'SSW', 'pressure_mb': 1025.0, 'pressure_in': 30.27, 'precip_mm': 0.0, 'precip_in': 0.0, 'humidity': 100, 'cloud': 75, 'feelslike_c': 1.9, 'feelslike_f': 35.3, 'windchill_c': 5.8, 'windchill_f': 42.5, 'heatindex_c': 6.8, 'heatindex_f': 44.2, 'dewpoint_c': 2.2, 'dewpoint_f': 35.9, 'vis_km': 6.0, 'vis_miles': 3.0, 'uv': 0.4, 'gust_mph': 4.9, 'gust_kph': 7.9}}\"},\n",
       " {'url': 'https://hungaryweather.org/debrecen',\n",
       "  'content': \"6°C Temperature: 5.54°C 7 Days 10 Days 14 Days 30 Days 0°C -1°C 0°C 1°C 1°C Hottest day (13 December 2024) 11.34°C Coldest day (25 December 2024) -5.73°C Temperature and possibility of rain in Debrecen in the coming days Rainfall in Debrecen in the coming days Month   High / Low (°C) Rain January 1.83° / -2.66°  11.0 days February    4.95° / -0.82°  10.0 days March   11.07° / 3.23°  9.36 days April   17.48° / 7.24°  12.0 days May 21.49° / 10.81° 17.09 days June    25.98° / 15.08° 16.0 days August  29.61° / 17.01° 7.45 days October 16.75° / 8.85°  7.82 days November    10.65° / 4.63°  8.36 days December    3.67° / -0.61°  8.36 days Debrecen's weather Day 0°C 0°C 0°C 2°C\"}]"
      ]
     },
     "execution_count": 43,
     "metadata": {},
     "output_type": "execute_result"
    }
   ],
   "source": [
    "tavily = TavilySearchResults(max_results=2, verbose=True, include_answer=True)\n",
    "search_results = tavily.invoke(\"What is the weather now in Hungary, Debrecen?\")\n",
    "search_results\n"
   ]
  },
  {
   "cell_type": "markdown",
   "id": "4aa50c9d",
   "metadata": {},
   "source": [
    "# Using tools with a react agents\n"
   ]
  },
  {
   "cell_type": "code",
   "execution_count": 7,
   "id": "96b062c7",
   "metadata": {},
   "outputs": [
    {
     "name": "stdout",
     "output_type": "stream",
     "text": [
      "\u001b[32;1m\u001b[1;3mcontent='[{\"url\": \"https://www.weatherapi.com/\", \"content\": \"{\\'location\\': {\\'name\\': \\'Debrecen\\', \\'region\\': \\'Debrecen\\', \\'country\\': \\'Hungary\\', \\'lat\\': 47.5333, \\'lon\\': 21.6333, \\'tz_id\\': \\'Europe/Budapest\\', \\'localtime_epoch\\': 1733127193, \\'localtime\\': \\'2024-12-02 09:13\\'}, \\'current\\': {\\'last_updated_epoch\\': 1733126400, \\'last_updated\\': \\'2024-12-02 09:00\\', \\'temp_c\\': 0.3, \\'temp_f\\': 32.5, \\'is_day\\': 1, \\'condition\\': {\\'text\\': \\'Freezing fog\\', \\'icon\\': \\'//cdn.weatherapi.com/weather/64x64/day/260.png\\', \\'code\\': 1147}, \\'wind_mph\\': 2.5, \\'wind_kph\\': 4.0, \\'wind_degree\\': 186, \\'wind_dir\\': \\'S\\', \\'pressure_mb\\': 1027.0, \\'pressure_in\\': 30.33, \\'precip_mm\\': 0.0, \\'precip_in\\': 0.0, \\'humidity\\': 100, \\'cloud\\': 100, \\'feelslike_c\\': -0.7, \\'feelslike_f\\': 30.7, \\'windchill_c\\': 3.0, \\'windchill_f\\': 37.3, \\'heatindex_c\\': 3.6, \\'heatindex_f\\': 38.4, \\'dewpoint_c\\': 1.8, \\'dewpoint_f\\': 35.2, \\'vis_km\\': 0.2, \\'vis_miles\\': 0.0, \\'uv\\': 0.4, \\'gust_mph\\': 3.8, \\'gust_kph\\': 6.2}}\"}, {\"url\": \"https://hungaryweather.org/debrecen\", \"content\": \"6°C Temperature: 5.54°C 7 Days 10 Days 14 Days 30 Days 0°C -1°C 0°C 1°C 1°C Hottest day (13 December 2024) 11.34°C Coldest day (25 December 2024) -5.73°C Temperature and possibility of rain in Debrecen in the coming days Rainfall in Debrecen in the coming days Month   High / Low (°C) Rain January 1.83° / -2.66°  11.0 days February    4.95° / -0.82°  10.0 days March   11.07° / 3.23°  9.36 days April   17.48° / 7.24°  12.0 days May 21.49° / 10.81° 17.09 days June    25.98° / 15.08° 16.0 days August  29.61° / 17.01° 7.45 days October 16.75° / 8.85°  7.82 days November    10.65° / 4.63°  8.36 days December    3.67° / -0.61°  8.36 days Debrecen\\'s weather Day 0°C 0°C 0°C 2°C\"}]' name='tavily_search_results_json' tool_call_id='call_XegzIfPvNwSjJuLea6GJwDjr' artifact={'query': 'current weather in Debrecen, Hungary', 'follow_up_questions': None, 'answer': None, 'images': [], 'results': [{'title': 'Weather in Debrecen, Hungary', 'url': 'https://www.weatherapi.com/', 'content': \"{'location': {'name': 'Debrecen', 'region': 'Debrecen', 'country': 'Hungary', 'lat': 47.5333, 'lon': 21.6333, 'tz_id': 'Europe/Budapest', 'localtime_epoch': 1733127193, 'localtime': '2024-12-02 09:13'}, 'current': {'last_updated_epoch': 1733126400, 'last_updated': '2024-12-02 09:00', 'temp_c': 0.3, 'temp_f': 32.5, 'is_day': 1, 'condition': {'text': 'Freezing fog', 'icon': '//cdn.weatherapi.com/weather/64x64/day/260.png', 'code': 1147}, 'wind_mph': 2.5, 'wind_kph': 4.0, 'wind_degree': 186, 'wind_dir': 'S', 'pressure_mb': 1027.0, 'pressure_in': 30.33, 'precip_mm': 0.0, 'precip_in': 0.0, 'humidity': 100, 'cloud': 100, 'feelslike_c': -0.7, 'feelslike_f': 30.7, 'windchill_c': 3.0, 'windchill_f': 37.3, 'heatindex_c': 3.6, 'heatindex_f': 38.4, 'dewpoint_c': 1.8, 'dewpoint_f': 35.2, 'vis_km': 0.2, 'vis_miles': 0.0, 'uv': 0.4, 'gust_mph': 3.8, 'gust_kph': 6.2}}\", 'score': 0.9925442, 'raw_content': None}, {'title': 'Debrecen Weather Forecast Today', 'url': 'https://hungaryweather.org/debrecen', 'content': \"6°C Temperature: 5.54°C 7 Days 10 Days 14 Days 30 Days 0°C -1°C 0°C 1°C 1°C Hottest day (13 December 2024) 11.34°C Coldest day (25 December 2024) -5.73°C Temperature and possibility of rain in Debrecen in the coming days Rainfall in Debrecen in the coming days Month   High / Low (°C) Rain January 1.83° / -2.66°  11.0 days February    4.95° / -0.82°  10.0 days March   11.07° / 3.23°  9.36 days April   17.48° / 7.24°  12.0 days May 21.49° / 10.81° 17.09 days June    25.98° / 15.08° 16.0 days August  29.61° / 17.01° 7.45 days October 16.75° / 8.85°  7.82 days November    10.65° / 4.63°  8.36 days December    3.67° / -0.61°  8.36 days Debrecen's weather Day 0°C 0°C 0°C 2°C\", 'score': 0.98947024, 'raw_content': None}], 'response_time': 2.37}\u001b[0m"
     ]
    },
    {
     "data": {
      "text/plain": [
       "[HumanMessage(content='What is the weather now in Hungary, Debrecen?', additional_kwargs={}, response_metadata={}, id='6083f7b8-86fb-4646-828f-64ba3711eecd'),\n",
       " AIMessage(content='', additional_kwargs={'tool_calls': [{'id': 'call_XegzIfPvNwSjJuLea6GJwDjr', 'function': {'arguments': '{\"query\":\"current weather in Debrecen, Hungary\"}', 'name': 'tavily_search_results_json'}, 'type': 'function'}], 'refusal': None}, response_metadata={'token_usage': {'completion_tokens': 25, 'prompt_tokens': 91, 'total_tokens': 116, 'completion_tokens_details': {'reasoning_tokens': 0, 'audio_tokens': 0, 'accepted_prediction_tokens': 0, 'rejected_prediction_tokens': 0}, 'prompt_tokens_details': {'cached_tokens': 0, 'audio_tokens': 0}}, 'model_name': 'gpt-4o-mini-2024-07-18', 'system_fingerprint': 'fp_3de1288069', 'finish_reason': 'tool_calls', 'logprobs': None}, id='run-3d07a0d6-7ba9-4ac6-b194-55ab3e67e411-0', tool_calls=[{'name': 'tavily_search_results_json', 'args': {'query': 'current weather in Debrecen, Hungary'}, 'id': 'call_XegzIfPvNwSjJuLea6GJwDjr', 'type': 'tool_call'}], usage_metadata={'input_tokens': 91, 'output_tokens': 25, 'total_tokens': 116}),\n",
       " ToolMessage(content='[{\"url\": \"https://www.weatherapi.com/\", \"content\": \"{\\'location\\': {\\'name\\': \\'Debrecen\\', \\'region\\': \\'Debrecen\\', \\'country\\': \\'Hungary\\', \\'lat\\': 47.5333, \\'lon\\': 21.6333, \\'tz_id\\': \\'Europe/Budapest\\', \\'localtime_epoch\\': 1733127193, \\'localtime\\': \\'2024-12-02 09:13\\'}, \\'current\\': {\\'last_updated_epoch\\': 1733126400, \\'last_updated\\': \\'2024-12-02 09:00\\', \\'temp_c\\': 0.3, \\'temp_f\\': 32.5, \\'is_day\\': 1, \\'condition\\': {\\'text\\': \\'Freezing fog\\', \\'icon\\': \\'//cdn.weatherapi.com/weather/64x64/day/260.png\\', \\'code\\': 1147}, \\'wind_mph\\': 2.5, \\'wind_kph\\': 4.0, \\'wind_degree\\': 186, \\'wind_dir\\': \\'S\\', \\'pressure_mb\\': 1027.0, \\'pressure_in\\': 30.33, \\'precip_mm\\': 0.0, \\'precip_in\\': 0.0, \\'humidity\\': 100, \\'cloud\\': 100, \\'feelslike_c\\': -0.7, \\'feelslike_f\\': 30.7, \\'windchill_c\\': 3.0, \\'windchill_f\\': 37.3, \\'heatindex_c\\': 3.6, \\'heatindex_f\\': 38.4, \\'dewpoint_c\\': 1.8, \\'dewpoint_f\\': 35.2, \\'vis_km\\': 0.2, \\'vis_miles\\': 0.0, \\'uv\\': 0.4, \\'gust_mph\\': 3.8, \\'gust_kph\\': 6.2}}\"}, {\"url\": \"https://hungaryweather.org/debrecen\", \"content\": \"6°C Temperature: 5.54°C 7 Days 10 Days 14 Days 30 Days 0°C -1°C 0°C 1°C 1°C Hottest day (13 December 2024) 11.34°C Coldest day (25 December 2024) -5.73°C Temperature and possibility of rain in Debrecen in the coming days Rainfall in Debrecen in the coming days Month   High / Low (°C) Rain January 1.83° / -2.66°  11.0 days February    4.95° / -0.82°  10.0 days March   11.07° / 3.23°  9.36 days April   17.48° / 7.24°  12.0 days May 21.49° / 10.81° 17.09 days June    25.98° / 15.08° 16.0 days August  29.61° / 17.01° 7.45 days October 16.75° / 8.85°  7.82 days November    10.65° / 4.63°  8.36 days December    3.67° / -0.61°  8.36 days Debrecen\\'s weather Day 0°C 0°C 0°C 2°C\"}]', name='tavily_search_results_json', id='7413da41-438b-4dca-91f4-4a4dffb04b84', tool_call_id='call_XegzIfPvNwSjJuLea6GJwDjr', artifact={'query': 'current weather in Debrecen, Hungary', 'follow_up_questions': None, 'answer': None, 'images': [], 'results': [{'title': 'Weather in Debrecen, Hungary', 'url': 'https://www.weatherapi.com/', 'content': \"{'location': {'name': 'Debrecen', 'region': 'Debrecen', 'country': 'Hungary', 'lat': 47.5333, 'lon': 21.6333, 'tz_id': 'Europe/Budapest', 'localtime_epoch': 1733127193, 'localtime': '2024-12-02 09:13'}, 'current': {'last_updated_epoch': 1733126400, 'last_updated': '2024-12-02 09:00', 'temp_c': 0.3, 'temp_f': 32.5, 'is_day': 1, 'condition': {'text': 'Freezing fog', 'icon': '//cdn.weatherapi.com/weather/64x64/day/260.png', 'code': 1147}, 'wind_mph': 2.5, 'wind_kph': 4.0, 'wind_degree': 186, 'wind_dir': 'S', 'pressure_mb': 1027.0, 'pressure_in': 30.33, 'precip_mm': 0.0, 'precip_in': 0.0, 'humidity': 100, 'cloud': 100, 'feelslike_c': -0.7, 'feelslike_f': 30.7, 'windchill_c': 3.0, 'windchill_f': 37.3, 'heatindex_c': 3.6, 'heatindex_f': 38.4, 'dewpoint_c': 1.8, 'dewpoint_f': 35.2, 'vis_km': 0.2, 'vis_miles': 0.0, 'uv': 0.4, 'gust_mph': 3.8, 'gust_kph': 6.2}}\", 'score': 0.9925442, 'raw_content': None}, {'title': 'Debrecen Weather Forecast Today', 'url': 'https://hungaryweather.org/debrecen', 'content': \"6°C Temperature: 5.54°C 7 Days 10 Days 14 Days 30 Days 0°C -1°C 0°C 1°C 1°C Hottest day (13 December 2024) 11.34°C Coldest day (25 December 2024) -5.73°C Temperature and possibility of rain in Debrecen in the coming days Rainfall in Debrecen in the coming days Month   High / Low (°C) Rain January 1.83° / -2.66°  11.0 days February    4.95° / -0.82°  10.0 days March   11.07° / 3.23°  9.36 days April   17.48° / 7.24°  12.0 days May 21.49° / 10.81° 17.09 days June    25.98° / 15.08° 16.0 days August  29.61° / 17.01° 7.45 days October 16.75° / 8.85°  7.82 days November    10.65° / 4.63°  8.36 days December    3.67° / -0.61°  8.36 days Debrecen's weather Day 0°C 0°C 0°C 2°C\", 'score': 0.98947024, 'raw_content': None}], 'response_time': 2.37}),\n",
       " AIMessage(content='The current weather in Debrecen, Hungary is as follows:\\n\\n- **Temperature:** 0.3°C (feels like -0.7°C)\\n- **Condition:** Freezing fog\\n- **Humidity:** 100%\\n- **Wind:** 2.5 mph (4.0 kph) from the South\\n- **Visibility:** 0.2 km\\n\\nFor more details, you can check the weather [here](https://www.weatherapi.com/).', additional_kwargs={'refusal': None}, response_metadata={'token_usage': {'completion_tokens': 98, 'prompt_tokens': 856, 'total_tokens': 954, 'completion_tokens_details': {'reasoning_tokens': 0, 'audio_tokens': 0, 'accepted_prediction_tokens': 0, 'rejected_prediction_tokens': 0}, 'prompt_tokens_details': {'cached_tokens': 0, 'audio_tokens': 0}}, 'model_name': 'gpt-4o-mini-2024-07-18', 'system_fingerprint': 'fp_0705bf87c0', 'finish_reason': 'stop', 'logprobs': None}, id='run-39e92529-a8e9-46a1-be5c-4c1142870613-0', usage_metadata={'input_tokens': 856, 'output_tokens': 98, 'total_tokens': 954})]"
      ]
     },
     "execution_count": 7,
     "metadata": {},
     "output_type": "execute_result"
    }
   ],
   "source": [
    "agent = create_react_agent(model, [tavily])\n",
    "\n",
    "# prompt = \"What is OOP?\"\n",
    "prompt = \"What is the weather now in Hungary, Debrecen?\"\n",
    "\n",
    "response = agent.invoke({\"messages\": [HumanMessage(content=prompt)]})\n",
    "\n",
    "response[\"messages\"]\n"
   ]
  },
  {
   "cell_type": "code",
   "execution_count": 8,
   "id": "530c1329",
   "metadata": {},
   "outputs": [
    {
     "name": "stdout",
     "output_type": "stream",
     "text": [
      "The current weather in Debrecen, Hungary is as follows:\n",
      "\n",
      "- **Temperature:** 0.3°C (feels like -0.7°C)\n",
      "- **Condition:** Freezing fog\n",
      "- **Humidity:** 100%\n",
      "- **Wind:** 2.5 mph (4.0 kph) from the South\n",
      "- **Visibility:** 0.2 km\n",
      "\n",
      "For more details, you can check the weather [here](https://www.weatherapi.com/).\n"
     ]
    }
   ],
   "source": [
    "print(response[\"messages\"][-1].content)\n"
   ]
  },
  {
   "cell_type": "markdown",
   "id": "8638617d",
   "metadata": {},
   "source": [
    "# Trying to do math without a calculator and only with an LLM\n"
   ]
  },
  {
   "cell_type": "code",
   "execution_count": 37,
   "id": "45bb4940",
   "metadata": {},
   "outputs": [
    {
     "name": "stdout",
     "output_type": "stream",
     "text": [
      "\u001b[32;1m\u001b[1;3mcontent='[{\"url\": \"https://aerobasegroup.com/part-number/12311231_01-128-5509\", \"content\": \"12311231 Automotive Eng Maintenance Stand | AeroBase Group, Inc. Parts Lookup \\xa0 Parts Search Parts by End Item Commercial Aircraft Parts Parts by Category Parts \\xa0 Parts Lookup \\xa0 Parts Search Parts by End Item Commercial Aircraft Parts Parts by Category The name and number of those parts furnished with the item of supply that have not been specified elsewhere.AKYN Cross Reference Parts Product Condition Codes | FN | Factory New. Parts manufactured by then OEM and includes manufacturer certification. | NE | New. Parts manufactured by the OEM. Parts Parts by End Item Parts by Series Commercial Aircraft Parts Two Russian fighters intercepted a pair of B-52H Stratofortresses near the Baltic Sea on Monday, a U.S. defense official confirmed. Recent parts by keyword  \"}, {\"url\": \"https://www.chegg.com/homework-help/questions-and-answers/find-2-x-2-stochastic-matrix-identity-19311931-12311231-steady-state-vector-q97213222\", \"content\": \"Solved Find a 2 x 2 stochastic matrix A, that is not the | Chegg.com Textbook Solutions Citations Math Math Math Advanced Math questions and answers Find a 2 x 2 stochastic matrix A, that is not the identity, that has ⎡⎣⎢⎢[ 19311931 ⎤⎦⎥⎥] 12311231 for a steady-state vector. Our expert help has broken down your problem into an easy-to-learn solution you can count on. Question: Find a 2 x 2 stochastic matrix A, that is not the identity, that has ⎡⎣⎢⎢[ 19311931 ⎤⎦⎥⎥] 12311231 for a steady-state vector. Post any question and get expert help quickly. Chegg Products & Services Chegg Study Help Used Textbooks Chegg Perks About Chegg Chegg For Good Chegg Network Chegg Network Chegg en español\"}]' name='tavily_search_results_json' tool_call_id='call_OuskWZeFasTk4qUlhn52Jwp9' artifact={'query': '12311231 * 15411414223', 'follow_up_questions': None, 'answer': None, 'images': [], 'results': [{'title': '12311231 Automotive Eng Maintenance Stand - AeroBase Group', 'url': 'https://aerobasegroup.com/part-number/12311231_01-128-5509', 'content': '12311231 Automotive Eng Maintenance Stand | AeroBase Group, Inc. Parts Lookup \\xa0 Parts Search Parts by End Item Commercial Aircraft Parts Parts by Category Parts \\xa0 Parts Lookup \\xa0 Parts Search Parts by End Item Commercial Aircraft Parts Parts by Category The name and number of those parts furnished with the item of supply that have not been specified elsewhere.AKYN Cross Reference Parts Product Condition Codes | FN | Factory New. Parts manufactured by then OEM and includes manufacturer certification. | NE | New. Parts manufactured by the OEM. Parts Parts by End Item Parts by Series Commercial Aircraft Parts Two Russian fighters intercepted a pair of B-52H Stratofortresses near the Baltic Sea on Monday, a U.S. defense official confirmed. Recent parts by keyword  ', 'score': 0.9448931, 'raw_content': None}, {'title': 'Solved Find a 2 x 2 stochastic matrix A, that is not the - Chegg', 'url': 'https://www.chegg.com/homework-help/questions-and-answers/find-2-x-2-stochastic-matrix-identity-19311931-12311231-steady-state-vector-q97213222', 'content': 'Solved Find a 2 x 2 stochastic matrix A, that is not the | Chegg.com Textbook Solutions Citations Math Math Math Advanced Math questions and answers Find a 2 x 2 stochastic matrix A, that is not the identity, that has ⎡⎣⎢⎢[ 19311931 ⎤⎦⎥⎥] 12311231 for a steady-state vector. Our expert help has broken down your problem into an easy-to-learn solution you can count on. Question: Find a 2 x 2 stochastic matrix A, that is not the identity, that has ⎡⎣⎢⎢[ 19311931 ⎤⎦⎥⎥] 12311231 for a steady-state vector. Post any question and get expert help quickly. Chegg Products & Services Chegg Study Help Used Textbooks Chegg Perks About Chegg Chegg For Good Chegg Network Chegg Network Chegg en español', 'score': 0.5167022, 'raw_content': None}], 'response_time': 1.37}\u001b[0m"
     ]
    },
    {
     "data": {
      "text/plain": [
       "'18915541124755385353'"
      ]
     },
     "execution_count": 37,
     "metadata": {},
     "output_type": "execute_result"
    }
   ],
   "source": [
    "agent = create_react_agent(model, [tavily])\n",
    "\n",
    "A = 12311231\n",
    "B = 15411414223\n",
    "\n",
    "prompt = f\"Multiply {A} with {B}. Respond only with the number, without any extra content or punctuation\"\n",
    "\n",
    "response = agent.invoke({\"messages\": [HumanMessage(content=prompt)]})\n",
    "\n",
    "response[\"messages\"][-1].content\n"
   ]
  },
  {
   "cell_type": "code",
   "execution_count": 38,
   "id": "07a50624",
   "metadata": {},
   "outputs": [
    {
     "name": "stdout",
     "output_type": "stream",
     "text": [
      "False\n",
      "correct result: 189733480536038513, returned result: 18915541124755385353\n"
     ]
    }
   ],
   "source": [
    "result = int(response[\"messages\"][-1].content)\n",
    "correct_response = A * B\n",
    "print(correct_response == result)\n",
    "print(f\"correct result: {correct_response}, returned result: {result}\")\n"
   ]
  },
  {
   "cell_type": "markdown",
   "id": "e75a85ba",
   "metadata": {},
   "source": [
    "# Introducing our own tool to multiply numbers\n"
   ]
  },
  {
   "cell_type": "code",
   "execution_count": 18,
   "id": "797bfcdf",
   "metadata": {},
   "outputs": [],
   "source": [
    "from langchain_core.tools import tool\n",
    "\n",
    "\n",
    "@tool\n",
    "def multiply(a: int, b: int) -> int:\n",
    "    \"\"\"Multiply two numbers.\"\"\"\n",
    "    return a * b\n"
   ]
  },
  {
   "cell_type": "code",
   "execution_count": 39,
   "id": "6c175259",
   "metadata": {},
   "outputs": [
    {
     "data": {
      "text/plain": [
       "[HumanMessage(content='Multiply 12311231 with 15411414223. Respond only with the number, without any extra content or punctuation', additional_kwargs={}, response_metadata={}, id='29a5557a-037d-4486-90bd-80ae6af49cd2'),\n",
       " AIMessage(content='', additional_kwargs={'tool_calls': [{'id': 'call_yUtmBiNOuYgi15AsvU4dL1Ze', 'function': {'arguments': '{\"a\":12311231,\"b\":15411414223}', 'name': 'multiply'}, 'type': 'function'}], 'refusal': None}, response_metadata={'token_usage': {'completion_tokens': 22, 'prompt_tokens': 124, 'total_tokens': 146, 'completion_tokens_details': {'reasoning_tokens': 0, 'audio_tokens': 0, 'accepted_prediction_tokens': 0, 'rejected_prediction_tokens': 0}, 'prompt_tokens_details': {'cached_tokens': 0, 'audio_tokens': 0}}, 'model_name': 'gpt-4o-mini-2024-07-18', 'system_fingerprint': 'fp_0705bf87c0', 'finish_reason': 'tool_calls', 'logprobs': None}, id='run-95ebf06c-72dd-48e3-84e1-b79eaf4204f1-0', tool_calls=[{'name': 'multiply', 'args': {'a': 12311231, 'b': 15411414223}, 'id': 'call_yUtmBiNOuYgi15AsvU4dL1Ze', 'type': 'tool_call'}], usage_metadata={'input_tokens': 124, 'output_tokens': 22, 'total_tokens': 146}),\n",
       " ToolMessage(content='189733480536038513', name='multiply', id='a8c561f9-b64c-4515-82a5-1f91482c5258', tool_call_id='call_yUtmBiNOuYgi15AsvU4dL1Ze'),\n",
       " AIMessage(content='189733480536038513', additional_kwargs={'refusal': None}, response_metadata={'token_usage': {'completion_tokens': 7, 'prompt_tokens': 159, 'total_tokens': 166, 'completion_tokens_details': {'reasoning_tokens': 0, 'audio_tokens': 0, 'accepted_prediction_tokens': 0, 'rejected_prediction_tokens': 0}, 'prompt_tokens_details': {'cached_tokens': 0, 'audio_tokens': 0}}, 'model_name': 'gpt-4o-mini-2024-07-18', 'system_fingerprint': 'fp_0705bf87c0', 'finish_reason': 'stop', 'logprobs': None}, id='run-7db4644e-a963-40f1-914c-70e4b0f7502f-0', usage_metadata={'input_tokens': 159, 'output_tokens': 7, 'total_tokens': 166})]"
      ]
     },
     "execution_count": 39,
     "metadata": {},
     "output_type": "execute_result"
    }
   ],
   "source": [
    "agent = create_react_agent(model, [tavily, multiply])\n",
    "response = agent.invoke({\"messages\": [HumanMessage(content=prompt)]})\n",
    "\n",
    "response[\"messages\"]\n"
   ]
  },
  {
   "cell_type": "code",
   "execution_count": 41,
   "id": "2426211c",
   "metadata": {},
   "outputs": [
    {
     "name": "stdout",
     "output_type": "stream",
     "text": [
      "True\n",
      "correct result: 189733480536038513, returned result: 189733480536038513\n"
     ]
    }
   ],
   "source": [
    "result = int(response[\"messages\"][-1].content)\n",
    "print(correct_response == result)\n",
    "print(f\"correct result: {correct_response}, returned result: {result}\")\n"
   ]
  },
  {
   "cell_type": "code",
   "execution_count": null,
   "id": "988227de",
   "metadata": {},
   "outputs": [],
   "source": []
  }
 ],
 "metadata": {
  "kernelspec": {
   "display_name": ".venv",
   "language": "python",
   "name": "python3"
  },
  "language_info": {
   "codemirror_mode": {
    "name": "ipython",
    "version": 3
   },
   "file_extension": ".py",
   "mimetype": "text/x-python",
   "name": "python",
   "nbconvert_exporter": "python",
   "pygments_lexer": "ipython3",
   "version": "3.12.7"
  }
 },
 "nbformat": 4,
 "nbformat_minor": 5
}
