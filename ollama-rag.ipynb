{
 "cells": [
  {
   "cell_type": "markdown",
   "metadata": {},
   "source": [
    "# Ollama RAG Example\n",
    "\n",
    "## Import/Setup\n"
   ]
  },
  {
   "cell_type": "code",
   "execution_count": null,
   "metadata": {},
   "outputs": [],
   "source": [
    "import logging\n",
    "from datetime import datetime\n",
    "from langchain_community.document_loaders import PyPDFLoader\n",
    "from langchain_community.embeddings import OllamaEmbeddings\n",
    "from langchain.text_splitter import CharacterTextSplitter\n",
    "from langchain_community.vectorstores import Chroma\n",
    "\n",
    "logging.basicConfig(level=logging.INFO)\n"
   ]
  },
  {
   "cell_type": "markdown",
   "metadata": {},
   "source": [
    "## Loading PDF file(s)\n"
   ]
  },
  {
   "cell_type": "code",
   "execution_count": null,
   "metadata": {},
   "outputs": [],
   "source": [
    "logging.info(\"Loading PDF\")\n",
    "loader = PyPDFLoader(\"./ISTQB_CTFL_Syllabus_v4.0.1.pdf\")\n",
    "pages = loader.load()\n",
    "logging.info(f\"Loaded {len(pages)} pages\")\n"
   ]
  },
  {
   "cell_type": "markdown",
   "metadata": {},
   "source": [
    "## Splitting the pages into chunks\n"
   ]
  },
  {
   "cell_type": "code",
   "execution_count": null,
   "metadata": {},
   "outputs": [
    {
     "name": "stderr",
     "output_type": "stream",
     "text": [
      "INFO:root:Loading PDF\n",
      "INFO:root:Loaded 78 pages\n",
      "INFO:root:Splitting text\n",
      "INFO:root:Split into 255 documents\n"
     ]
    }
   ],
   "source": [
    "logging.info(\"Splitting text\")\n",
    "text_splitter = CharacterTextSplitter(\n",
    "    separator=\" \",\n",
    "    is_separator_regex=True,\n",
    "    chunk_size=1000,\n",
    "    chunk_overlap=100,\n",
    ")\n",
    "docs = text_splitter.split_documents(pages)\n",
    "logging.info(f\"Split into {len(docs)} documents\")\n"
   ]
  },
  {
   "cell_type": "markdown",
   "metadata": {},
   "source": [
    "## Loading the chunks into the vector DB\n"
   ]
  },
  {
   "cell_type": "code",
   "execution_count": 68,
   "metadata": {},
   "outputs": [
    {
     "name": "stderr",
     "output_type": "stream",
     "text": [
      "INFO:root:Embedding text\n",
      "INFO:root:Embedded 510 documents\n"
     ]
    }
   ],
   "source": [
    "COLLECTION_NAME = f\"istqb_ctfl_{datetime.now().strftime('%Y%m%d%H%M%S')}\"\n",
    "\n",
    "logging.info(\"Embedding text\")\n",
    "embedding_model = OllamaEmbeddings(model=\"nomic-embed-text\")\n",
    "vector_db = Chroma(\n",
    "    collection_name=COLLECTION_NAME,\n",
    "    embedding_function=embedding_model,\n",
    ")\n",
    "vector_db.add_documents(docs)\n",
    "logging.info(f\"Embedded {len(vector_db)} documents\")\n"
   ]
  },
  {
   "cell_type": "markdown",
   "metadata": {},
   "source": [
    "## Index search using the vector DB\n"
   ]
  },
  {
   "cell_type": "code",
   "execution_count": 69,
   "metadata": {},
   "outputs": [
    {
     "name": "stdout",
     "output_type": "stream",
     "text": [
      "\n",
      "# 0 ##########################\n",
      "Document {'page': 39, 'source': './ISTQB_CTFL_Syllabus_v4.0.1.pdf'}:\n",
      "Score: 382.41259765625\n",
      "Length: 996\n",
      "Content:\n",
      "--------------------------\n",
      "coverage items are the equivalence partitions. To achieve 100% coverage with this test \n",
      "technique, t...\n",
      "##########################\n",
      "\n",
      "\n",
      "# 1 ##########################\n",
      "Document {'page': 39, 'source': './ISTQB_CTFL_Syllabus_v4.0.1.pdf'}:\n",
      "Score: 382.41259765625\n",
      "Length: 996\n",
      "Content:\n",
      "--------------------------\n",
      "coverage items are the equivalence partitions. To achieve 100% coverage with this test \n",
      "technique, t...\n",
      "##########################\n",
      "\n",
      "\n",
      "# 2 ##########################\n",
      "Document {'page': 39, 'source': './ISTQB_CTFL_Syllabus_v4.0.1.pdf'}:\n",
      "Score: 367.7126770019531\n",
      "Length: 471\n",
      "Content:\n",
      "--------------------------\n",
      "exercised, divided by the total number of identified \n",
      "boundary values and their neighbors, and is ex...\n",
      "##########################\n",
      "\n",
      "\n",
      "# 3 ##########################\n",
      "Document {'page': 39, 'source': './ISTQB_CTFL_Syllabus_v4.0.1.pdf'}:\n",
      "Score: 367.7126770019531\n",
      "Length: 471\n",
      "Content:\n",
      "--------------------------\n",
      "exercised, divided by the total number of identified \n",
      "boundary values and their neighbors, and is ex...\n",
      "##########################\n",
      "\n",
      "\n",
      "# 4 ##########################\n",
      "Document {'page': 39, 'source': './ISTQB_CTFL_Syllabus_v4.0.1.pdf'}:\n",
      "Score: 362.3782653808594\n",
      "Length: 997\n",
      "Content:\n",
      "--------------------------\n",
      "2002, Myers 2011), for each boundary value there are two coverage items : this \n",
      "boundary value and i...\n",
      "##########################\n",
      "\n",
      "\n",
      "# 5 ##########################\n",
      "Document {'page': 39, 'source': './ISTQB_CTFL_Syllabus_v4.0.1.pdf'}:\n",
      "Score: 362.3782653808594\n",
      "Length: 997\n",
      "Content:\n",
      "--------------------------\n",
      "2002, Myers 2011), for each boundary value there are two coverage items : this \n",
      "boundary value and i...\n",
      "##########################\n",
      "\n",
      "\n",
      "# 6 ##########################\n",
      "Document {'page': 63, 'source': './ISTQB_CTFL_Syllabus_v4.0.1.pdf'}:\n",
      "Score: 361.28485107421875\n",
      "Length: 403\n",
      "Content:\n",
      "--------------------------\n",
      "prioritization” (should refer to a procedure, technique, process, algorithm etc.). \n",
      "• “Prepare a def...\n",
      "##########################\n",
      "\n",
      "\n",
      "# 7 ##########################\n",
      "Document {'page': 63, 'source': './ISTQB_CTFL_Syllabus_v4.0.1.pdf'}:\n",
      "Score: 361.28485107421875\n",
      "Length: 403\n",
      "Content:\n",
      "--------------------------\n",
      "prioritization” (should refer to a procedure, technique, process, algorithm etc.). \n",
      "• “Prepare a def...\n",
      "##########################\n",
      "\n",
      "\n",
      "# 8 ##########################\n",
      "Document {'page': 39, 'source': './ISTQB_CTFL_Syllabus_v4.0.1.pdf'}:\n",
      "Score: 270.7782897949219\n",
      "Length: 998\n",
      "Content:\n",
      "--------------------------\n",
      "4.2.2. Boundary Value Analysis \n",
      "Boundary Value Analysis (BVA) is a test technique based on exercisin...\n",
      "##########################\n",
      "\n",
      "\n",
      "# 9 ##########################\n",
      "Document {'page': 39, 'source': './ISTQB_CTFL_Syllabus_v4.0.1.pdf'}:\n",
      "Score: 270.7782897949219\n",
      "Length: 998\n",
      "Content:\n",
      "--------------------------\n",
      "4.2.2. Boundary Value Analysis \n",
      "Boundary Value Analysis (BVA) is a test technique based on exercisin...\n",
      "##########################\n",
      "\n"
     ]
    }
   ],
   "source": [
    "docs = vector_db.similarity_search_with_score(\"boundary value analysis\", k=10)\n",
    "\n",
    "# sort by score descending\n",
    "docs = sorted(docs, key=lambda x: x[1], reverse=True)\n",
    "\n",
    "for i, (doc, score) in enumerate(docs):\n",
    "    print(f\"\"\"\n",
    "# {i} ##########################\n",
    "Document {doc.metadata}:\n",
    "Score: {score}\n",
    "Length: {len(doc.page_content)}\n",
    "Content:\n",
    "--------------------------\n",
    "{doc.page_content[:100]}...\n",
    "##########################\n",
    "\"\"\")\n"
   ]
  },
  {
   "cell_type": "code",
   "execution_count": null,
   "metadata": {},
   "outputs": [],
   "source": []
  }
 ],
 "metadata": {
  "kernelspec": {
   "display_name": ".venv",
   "language": "python",
   "name": "python3"
  },
  "language_info": {
   "codemirror_mode": {
    "name": "ipython",
    "version": 3
   },
   "file_extension": ".py",
   "mimetype": "text/x-python",
   "name": "python",
   "nbconvert_exporter": "python",
   "pygments_lexer": "ipython3",
   "version": "3.12.7"
  }
 },
 "nbformat": 4,
 "nbformat_minor": 2
}
